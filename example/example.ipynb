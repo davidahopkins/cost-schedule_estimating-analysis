{
 "cells": [
  {
   "attachments": {},
   "cell_type": "markdown",
   "metadata": {},
   "source": [
    "#This is a simple conversion tool\n",
    "this takes measurements in feet & inches (ie 10'8\") and converts them to a float value in feet\n",
    "\n",
    "this is the working copy of the jupyter notebook used to build this small piece of code"
   ]
  },
  {
   "cell_type": "code",
   "execution_count": null,
   "metadata": {},
   "outputs": [],
   "source": [
    "import math\n",
    "import re\n",
    "'''you will need a space between the inches measurement\n",
    "and the fraction measurement (ie 10'8\" 1/2, or 10'8 1/2\")'''\n",
    "measurement = input(\"what is the meausrement you would like to convert?\")\n",
    "num = re.findall(r'\\d+', measurement)\n",
    "num_list = list(map(int, num))\n",
    "print(num_list)"
   ]
  },
  {
   "cell_type": "code",
   "execution_count": null,
   "metadata": {},
   "outputs": [],
   "source": [
    "base_feet = num_list[0]\n",
    "base_inches = num_list[1]\n",
    "numerator = num_list[2]\n",
    "denominator = num_list[-1]\n",
    "print(base_feet)\n",
    "print(base_inches)\n",
    "print(numerator)\n",
    "print(denominator)"
   ]
  },
  {
   "cell_type": "code",
   "execution_count": null,
   "metadata": {},
   "outputs": [],
   "source": [
    "inch_dec = numerator / denominator\n",
    "inches = base_inches + inch_dec\n",
    "feet_dec = inches / 12\n",
    "feet = round(base_feet + feet_dec,3) #rounds to 3 decimal places\n",
    "print(inch_dec)\n",
    "print(inches)\n",
    "print(feet_dec)\n",
    "print(feet)"
   ]
  }
 ],
 "metadata": {
  "kernelspec": {
   "display_name": ".venv",
   "language": "python",
   "name": "python3"
  },
  "language_info": {
   "codemirror_mode": {
    "name": "ipython",
    "version": 3
   },
   "file_extension": ".py",
   "mimetype": "text/x-python",
   "name": "python",
   "nbconvert_exporter": "python",
   "pygments_lexer": "ipython3",
   "version": "3.10.9"
  },
  "orig_nbformat": 4,
  "vscode": {
   "interpreter": {
    "hash": "1cc1724cb71e945de612c8bfb1e62f38957cb211721c3cc0cc00031bec0ea6fe"
   }
  }
 },
 "nbformat": 4,
 "nbformat_minor": 2
}
